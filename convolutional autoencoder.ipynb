{
 "cells": [
  {
   "cell_type": "code",
   "execution_count": 11,
   "metadata": {},
   "outputs": [],
   "source": [
    "from keras.models import Model,Sequential\n",
    "from keras.layers import Dense,Conv2D,MaxPooling2D,UpSampling2D,Input"
   ]
  },
  {
   "cell_type": "code",
   "execution_count": 3,
   "metadata": {},
   "outputs": [],
   "source": [
    "from keras.datasets import fashion_mnist"
   ]
  },
  {
   "cell_type": "code",
   "execution_count": 5,
   "metadata": {},
   "outputs": [],
   "source": [
    "(x_train0,_),(x_test0,_)=fashion_mnist.load_data()"
   ]
  },
  {
   "cell_type": "code",
   "execution_count": 7,
   "metadata": {},
   "outputs": [],
   "source": [
    "x_train=x_train0.astype('float32')/255\n",
    "x_test=x_test0.astype('float32')/255"
   ]
  },
  {
   "cell_type": "code",
   "execution_count": 8,
   "metadata": {},
   "outputs": [],
   "source": [
    "x_train=x_train.reshape([-1,28,28,1])\n",
    "x_test=x_test.reshape([-1,28,28,1])"
   ]
  },
  {
   "cell_type": "code",
   "execution_count": 9,
   "metadata": {},
   "outputs": [
    {
     "data": {
      "text/plain": [
       "(60000, 28, 28, 1)"
      ]
     },
     "execution_count": 9,
     "metadata": {},
     "output_type": "execute_result"
    }
   ],
   "source": [
    "x_train.shape"
   ]
  },
  {
   "cell_type": "code",
   "execution_count": 23,
   "metadata": {},
   "outputs": [],
   "source": [
    "def autoencoder(img_size):\n",
    "    conv1=Conv2D(32,(3,3),activation='relu',padding='same')(img_size)#28X28X32\n",
    "    maxpool1=MaxPooling2D(pool_size=(2,2))(conv1)#14X14X32\n",
    "    conv2=Conv2D(64,(3,3),activation='relu',padding='same')(maxpool1)#14X14X64\n",
    "    maxpool2=MaxPooling2D(pool_size=(2,2))(conv2)#7X7X64\n",
    "    conv3=Conv2D(128,(3,3),activation='relu',padding='same')(maxpool2)#7X7X128\n",
    "    \n",
    "    conv4=Conv2D(128,(3,3),activation='relu',padding='same')(conv3)#7X7X128\n",
    "    conv5=UpSampling2D((2,2))(conv4)#14X14X128\n",
    "    conv6=Conv2D(64,(3,3),activation='relu',padding='same')(conv5)#14X14X64\n",
    "    conv7=UpSampling2D((2,2))(conv6)#28X28X64\n",
    "    decoded=Conv2D(1,(3,3),activation='relu',padding='same')(conv7)#28X28X1\n",
    "    return decoded"
   ]
  },
  {
   "cell_type": "code",
   "execution_count": 24,
   "metadata": {},
   "outputs": [],
   "source": [
    "img_size=Input(shape=(x_train.shape[1],x_train.shape[1],1))"
   ]
  },
  {
   "cell_type": "code",
   "execution_count": 25,
   "metadata": {},
   "outputs": [],
   "source": [
    "auto=autoencoder(img_size)"
   ]
  },
  {
   "cell_type": "code",
   "execution_count": 26,
   "metadata": {},
   "outputs": [],
   "source": [
    "autoencoder=Model(inputs=img_size,outputs=auto)"
   ]
  },
  {
   "cell_type": "code",
   "execution_count": 30,
   "metadata": {},
   "outputs": [],
   "source": [
    "autoencoder.compile(optimizer=\"adam\",loss=\"mean_squared_error\")"
   ]
  },
  {
   "cell_type": "code",
   "execution_count": 31,
   "metadata": {},
   "outputs": [
    {
     "name": "stdout",
     "output_type": "stream",
     "text": [
      "_________________________________________________________________\n",
      "Layer (type)                 Output Shape              Param #   \n",
      "=================================================================\n",
      "input_5 (InputLayer)         (None, 28, 28, 1)         0         \n",
      "_________________________________________________________________\n",
      "conv2d_18 (Conv2D)           (None, 28, 28, 32)        320       \n",
      "_________________________________________________________________\n",
      "max_pooling2d_9 (MaxPooling2 (None, 14, 14, 32)        0         \n",
      "_________________________________________________________________\n",
      "conv2d_19 (Conv2D)           (None, 14, 14, 64)        18496     \n",
      "_________________________________________________________________\n",
      "max_pooling2d_10 (MaxPooling (None, 7, 7, 64)          0         \n",
      "_________________________________________________________________\n",
      "conv2d_20 (Conv2D)           (None, 7, 7, 128)         73856     \n",
      "_________________________________________________________________\n",
      "conv2d_21 (Conv2D)           (None, 7, 7, 128)         147584    \n",
      "_________________________________________________________________\n",
      "up_sampling2d_5 (UpSampling2 (None, 14, 14, 128)       0         \n",
      "_________________________________________________________________\n",
      "conv2d_22 (Conv2D)           (None, 14, 14, 64)        73792     \n",
      "_________________________________________________________________\n",
      "up_sampling2d_6 (UpSampling2 (None, 28, 28, 64)        0         \n",
      "_________________________________________________________________\n",
      "conv2d_23 (Conv2D)           (None, 28, 28, 1)         577       \n",
      "=================================================================\n",
      "Total params: 314,625\n",
      "Trainable params: 314,625\n",
      "Non-trainable params: 0\n",
      "_________________________________________________________________\n"
     ]
    }
   ],
   "source": [
    "autoencoder.summary()"
   ]
  },
  {
   "cell_type": "code",
   "execution_count": 32,
   "metadata": {},
   "outputs": [
    {
     "name": "stdout",
     "output_type": "stream",
     "text": [
      "Train on 48000 samples, validate on 12000 samples\n",
      "Epoch 1/50\n",
      "48000/48000 [==============================] - 638s 13ms/step - loss: 0.0153 - val_loss: 0.0082\n",
      "Epoch 2/50\n",
      "48000/48000 [==============================] - 670s 14ms/step - loss: 0.0068 - val_loss: 0.0054\n",
      "Epoch 3/50\n",
      "48000/48000 [==============================] - 685s 14ms/step - loss: 0.0050 - val_loss: 0.0044\n",
      "Epoch 4/50\n",
      "48000/48000 [==============================] - 667s 14ms/step - loss: 0.0042 - val_loss: 0.0039\n",
      "Epoch 5/50\n",
      "48000/48000 [==============================] - 662s 14ms/step - loss: 0.0037 - val_loss: 0.0035\n",
      "Epoch 6/50\n",
      "48000/48000 [==============================] - 659s 14ms/step - loss: 0.0034 - val_loss: 0.0033\n",
      "Epoch 7/50\n",
      "48000/48000 [==============================] - 649s 14ms/step - loss: 0.0032 - val_loss: 0.0030\n",
      "Epoch 8/50\n",
      "48000/48000 [==============================] - 635s 13ms/step - loss: 0.0032 - val_loss: 0.0030\n",
      "Epoch 9/50\n",
      "48000/48000 [==============================] - 676s 14ms/step - loss: 0.0029 - val_loss: 0.0028\n",
      "Epoch 10/50\n",
      "48000/48000 [==============================] - 696s 14ms/step - loss: 0.0028 - val_loss: 0.0027\n",
      "Epoch 11/50\n",
      "48000/48000 [==============================] - 688s 14ms/step - loss: 0.0027 - val_loss: 0.0026\n",
      "Epoch 12/50\n",
      "48000/48000 [==============================] - 659s 14ms/step - loss: 0.0027 - val_loss: 0.0027\n",
      "Epoch 13/50\n",
      "48000/48000 [==============================] - 636s 13ms/step - loss: 0.0025 - val_loss: 0.0027\n",
      "Epoch 14/50\n",
      "48000/48000 [==============================] - 629s 13ms/step - loss: 0.0024 - val_loss: 0.0023\n",
      "Epoch 15/50\n",
      "48000/48000 [==============================] - 629s 13ms/step - loss: 0.0024 - val_loss: 0.0023\n",
      "Epoch 16/50\n",
      "48000/48000 [==============================] - 625s 13ms/step - loss: 0.0024 - val_loss: 0.0023\n",
      "Epoch 17/50\n",
      "48000/48000 [==============================] - 632s 13ms/step - loss: 0.0023 - val_loss: 0.0022\n",
      "Epoch 18/50\n",
      "48000/48000 [==============================] - 631s 13ms/step - loss: 0.0023 - val_loss: 0.0022\n",
      "Epoch 19/50\n",
      "48000/48000 [==============================] - 625s 13ms/step - loss: 0.0021 - val_loss: 0.0024\n",
      "Epoch 20/50\n",
      "48000/48000 [==============================] - 671s 14ms/step - loss: 0.0022 - val_loss: 0.0021\n",
      "Epoch 21/50\n",
      "48000/48000 [==============================] - 708s 15ms/step - loss: 0.0021 - val_loss: 0.0021\n",
      "Epoch 22/50\n",
      "48000/48000 [==============================] - 713s 15ms/step - loss: 0.0021 - val_loss: 0.0021\n",
      "Epoch 23/50\n",
      "48000/48000 [==============================] - 716s 15ms/step - loss: 0.0020 - val_loss: 0.0020\n",
      "Epoch 24/50\n",
      "48000/48000 [==============================] - 738s 15ms/step - loss: 0.0020 - val_loss: 0.0020\n",
      "Epoch 25/50\n",
      "48000/48000 [==============================] - 709s 15ms/step - loss: 0.0020 - val_loss: 0.0021\n",
      "Epoch 26/50\n",
      "48000/48000 [==============================] - 682s 14ms/step - loss: 0.0019 - val_loss: 0.0019\n",
      "Epoch 27/50\n",
      "48000/48000 [==============================] - 659s 14ms/step - loss: 0.0019 - val_loss: 0.0018\n",
      "Epoch 28/50\n",
      "48000/48000 [==============================] - 654s 14ms/step - loss: 0.0019 - val_loss: 0.0020\n",
      "Epoch 29/50\n",
      "48000/48000 [==============================] - 651s 14ms/step - loss: 0.0019 - val_loss: 0.0018\n",
      "Epoch 30/50\n",
      "48000/48000 [==============================] - 652s 14ms/step - loss: 0.0019 - val_loss: 0.0023\n",
      "Epoch 31/50\n",
      "48000/48000 [==============================] - 654s 14ms/step - loss: 0.0018 - val_loss: 0.0018\n",
      "Epoch 32/50\n",
      "48000/48000 [==============================] - 654s 14ms/step - loss: 0.0018 - val_loss: 0.0018\n",
      "Epoch 33/50\n",
      "48000/48000 [==============================] - 655s 14ms/step - loss: 0.0018 - val_loss: 0.0017\n",
      "Epoch 34/50\n",
      "48000/48000 [==============================] - 652s 14ms/step - loss: 0.0017 - val_loss: 0.0017\n",
      "Epoch 35/50\n",
      "48000/48000 [==============================] - 652s 14ms/step - loss: 0.0017 - val_loss: 0.0017\n",
      "Epoch 36/50\n",
      "48000/48000 [==============================] - 657s 14ms/step - loss: 0.0017 - val_loss: 0.0018\n",
      "Epoch 37/50\n",
      "48000/48000 [==============================] - 656s 14ms/step - loss: 0.0017 - val_loss: 0.0017\n",
      "Epoch 38/50\n",
      "48000/48000 [==============================] - 669s 14ms/step - loss: 0.0017 - val_loss: 0.0017\n",
      "Epoch 39/50\n",
      "48000/48000 [==============================] - 675s 14ms/step - loss: 0.0017 - val_loss: 0.0016\n",
      "Epoch 40/50\n",
      "48000/48000 [==============================] - 670s 14ms/step - loss: 0.0017 - val_loss: 0.0017\n",
      "Epoch 41/50\n",
      "11008/48000 [=====>........................] - ETA: 48:42 - loss: 0.0016"
     ]
    },
    {
     "ename": "KeyboardInterrupt",
     "evalue": "",
     "output_type": "error",
     "traceback": [
      "\u001b[0;31m---------------------------------------------------------------------------\u001b[0m",
      "\u001b[0;31mKeyboardInterrupt\u001b[0m                         Traceback (most recent call last)",
      "\u001b[0;32m<ipython-input-32-e43cbd0f5917>\u001b[0m in \u001b[0;36m<module>\u001b[0;34m()\u001b[0m\n\u001b[0;32m----> 1\u001b[0;31m \u001b[0mautoencoder\u001b[0m\u001b[0;34m.\u001b[0m\u001b[0mfit\u001b[0m\u001b[0;34m(\u001b[0m\u001b[0mx_train\u001b[0m\u001b[0;34m,\u001b[0m\u001b[0mx_train\u001b[0m\u001b[0;34m,\u001b[0m\u001b[0mshuffle\u001b[0m\u001b[0;34m=\u001b[0m\u001b[0;32mTrue\u001b[0m\u001b[0;34m,\u001b[0m\u001b[0mepochs\u001b[0m\u001b[0;34m=\u001b[0m\u001b[0;36m50\u001b[0m\u001b[0;34m,\u001b[0m\u001b[0mbatch_size\u001b[0m\u001b[0;34m=\u001b[0m\u001b[0;36m256\u001b[0m\u001b[0;34m,\u001b[0m\u001b[0mvalidation_split\u001b[0m\u001b[0;34m=\u001b[0m\u001b[0;36m0.2\u001b[0m\u001b[0;34m)\u001b[0m\u001b[0;34m\u001b[0m\u001b[0m\n\u001b[0m",
      "\u001b[0;32m~/anaconda3/lib/python3.6/site-packages/keras/engine/training.py\u001b[0m in \u001b[0;36mfit\u001b[0;34m(self, x, y, batch_size, epochs, verbose, callbacks, validation_split, validation_data, shuffle, class_weight, sample_weight, initial_epoch, steps_per_epoch, validation_steps, **kwargs)\u001b[0m\n\u001b[1;32m   1040\u001b[0m                                         \u001b[0minitial_epoch\u001b[0m\u001b[0;34m=\u001b[0m\u001b[0minitial_epoch\u001b[0m\u001b[0;34m,\u001b[0m\u001b[0;34m\u001b[0m\u001b[0m\n\u001b[1;32m   1041\u001b[0m                                         \u001b[0msteps_per_epoch\u001b[0m\u001b[0;34m=\u001b[0m\u001b[0msteps_per_epoch\u001b[0m\u001b[0;34m,\u001b[0m\u001b[0;34m\u001b[0m\u001b[0m\n\u001b[0;32m-> 1042\u001b[0;31m                                         validation_steps=validation_steps)\n\u001b[0m\u001b[1;32m   1043\u001b[0m \u001b[0;34m\u001b[0m\u001b[0m\n\u001b[1;32m   1044\u001b[0m     def evaluate(self, x=None, y=None,\n",
      "\u001b[0;32m~/anaconda3/lib/python3.6/site-packages/keras/engine/training_arrays.py\u001b[0m in \u001b[0;36mfit_loop\u001b[0;34m(model, f, ins, out_labels, batch_size, epochs, verbose, callbacks, val_f, val_ins, shuffle, callback_metrics, initial_epoch, steps_per_epoch, validation_steps)\u001b[0m\n\u001b[1;32m    197\u001b[0m                     \u001b[0mins_batch\u001b[0m\u001b[0;34m[\u001b[0m\u001b[0mi\u001b[0m\u001b[0;34m]\u001b[0m \u001b[0;34m=\u001b[0m \u001b[0mins_batch\u001b[0m\u001b[0;34m[\u001b[0m\u001b[0mi\u001b[0m\u001b[0;34m]\u001b[0m\u001b[0;34m.\u001b[0m\u001b[0mtoarray\u001b[0m\u001b[0;34m(\u001b[0m\u001b[0;34m)\u001b[0m\u001b[0;34m\u001b[0m\u001b[0m\n\u001b[1;32m    198\u001b[0m \u001b[0;34m\u001b[0m\u001b[0m\n\u001b[0;32m--> 199\u001b[0;31m                 \u001b[0mouts\u001b[0m \u001b[0;34m=\u001b[0m \u001b[0mf\u001b[0m\u001b[0;34m(\u001b[0m\u001b[0mins_batch\u001b[0m\u001b[0;34m)\u001b[0m\u001b[0;34m\u001b[0m\u001b[0m\n\u001b[0m\u001b[1;32m    200\u001b[0m                 \u001b[0;32mif\u001b[0m \u001b[0;32mnot\u001b[0m \u001b[0misinstance\u001b[0m\u001b[0;34m(\u001b[0m\u001b[0mouts\u001b[0m\u001b[0;34m,\u001b[0m \u001b[0mlist\u001b[0m\u001b[0;34m)\u001b[0m\u001b[0;34m:\u001b[0m\u001b[0;34m\u001b[0m\u001b[0m\n\u001b[1;32m    201\u001b[0m                     \u001b[0mouts\u001b[0m \u001b[0;34m=\u001b[0m \u001b[0;34m[\u001b[0m\u001b[0mouts\u001b[0m\u001b[0;34m]\u001b[0m\u001b[0;34m\u001b[0m\u001b[0m\n",
      "\u001b[0;32m~/anaconda3/lib/python3.6/site-packages/keras/backend/tensorflow_backend.py\u001b[0m in \u001b[0;36m__call__\u001b[0;34m(self, inputs)\u001b[0m\n\u001b[1;32m   2659\u001b[0m                 \u001b[0;32mreturn\u001b[0m \u001b[0mself\u001b[0m\u001b[0;34m.\u001b[0m\u001b[0m_legacy_call\u001b[0m\u001b[0;34m(\u001b[0m\u001b[0minputs\u001b[0m\u001b[0;34m)\u001b[0m\u001b[0;34m\u001b[0m\u001b[0m\n\u001b[1;32m   2660\u001b[0m \u001b[0;34m\u001b[0m\u001b[0m\n\u001b[0;32m-> 2661\u001b[0;31m             \u001b[0;32mreturn\u001b[0m \u001b[0mself\u001b[0m\u001b[0;34m.\u001b[0m\u001b[0m_call\u001b[0m\u001b[0;34m(\u001b[0m\u001b[0minputs\u001b[0m\u001b[0;34m)\u001b[0m\u001b[0;34m\u001b[0m\u001b[0m\n\u001b[0m\u001b[1;32m   2662\u001b[0m         \u001b[0;32melse\u001b[0m\u001b[0;34m:\u001b[0m\u001b[0;34m\u001b[0m\u001b[0m\n\u001b[1;32m   2663\u001b[0m             \u001b[0;32mif\u001b[0m \u001b[0mpy_any\u001b[0m\u001b[0;34m(\u001b[0m\u001b[0mis_tensor\u001b[0m\u001b[0;34m(\u001b[0m\u001b[0mx\u001b[0m\u001b[0;34m)\u001b[0m \u001b[0;32mfor\u001b[0m \u001b[0mx\u001b[0m \u001b[0;32min\u001b[0m \u001b[0minputs\u001b[0m\u001b[0;34m)\u001b[0m\u001b[0;34m:\u001b[0m\u001b[0;34m\u001b[0m\u001b[0m\n",
      "\u001b[0;32m~/anaconda3/lib/python3.6/site-packages/keras/backend/tensorflow_backend.py\u001b[0m in \u001b[0;36m_call\u001b[0;34m(self, inputs)\u001b[0m\n\u001b[1;32m   2629\u001b[0m                                 \u001b[0msymbol_vals\u001b[0m\u001b[0;34m,\u001b[0m\u001b[0;34m\u001b[0m\u001b[0m\n\u001b[1;32m   2630\u001b[0m                                 session)\n\u001b[0;32m-> 2631\u001b[0;31m         \u001b[0mfetched\u001b[0m \u001b[0;34m=\u001b[0m \u001b[0mself\u001b[0m\u001b[0;34m.\u001b[0m\u001b[0m_callable_fn\u001b[0m\u001b[0;34m(\u001b[0m\u001b[0;34m*\u001b[0m\u001b[0marray_vals\u001b[0m\u001b[0;34m)\u001b[0m\u001b[0;34m\u001b[0m\u001b[0m\n\u001b[0m\u001b[1;32m   2632\u001b[0m         \u001b[0;32mreturn\u001b[0m \u001b[0mfetched\u001b[0m\u001b[0;34m[\u001b[0m\u001b[0;34m:\u001b[0m\u001b[0mlen\u001b[0m\u001b[0;34m(\u001b[0m\u001b[0mself\u001b[0m\u001b[0;34m.\u001b[0m\u001b[0moutputs\u001b[0m\u001b[0;34m)\u001b[0m\u001b[0;34m]\u001b[0m\u001b[0;34m\u001b[0m\u001b[0m\n\u001b[1;32m   2633\u001b[0m \u001b[0;34m\u001b[0m\u001b[0m\n",
      "\u001b[0;32m~/anaconda3/lib/python3.6/site-packages/tensorflow/python/client/session.py\u001b[0m in \u001b[0;36m__call__\u001b[0;34m(self, *args)\u001b[0m\n\u001b[1;32m   1449\u001b[0m         \u001b[0;32mif\u001b[0m \u001b[0mself\u001b[0m\u001b[0;34m.\u001b[0m\u001b[0m_session\u001b[0m\u001b[0;34m.\u001b[0m\u001b[0m_created_with_new_api\u001b[0m\u001b[0;34m:\u001b[0m\u001b[0;34m\u001b[0m\u001b[0m\n\u001b[1;32m   1450\u001b[0m           return tf_session.TF_SessionRunCallable(\n\u001b[0;32m-> 1451\u001b[0;31m               self._session._session, self._handle, args, status, None)\n\u001b[0m\u001b[1;32m   1452\u001b[0m         \u001b[0;32melse\u001b[0m\u001b[0;34m:\u001b[0m\u001b[0;34m\u001b[0m\u001b[0m\n\u001b[1;32m   1453\u001b[0m           return tf_session.TF_DeprecatedSessionRunCallable(\n",
      "\u001b[0;31mKeyboardInterrupt\u001b[0m: "
     ]
    }
   ],
   "source": [
    "autoencoder.fit(x_train,x_train,shuffle=True,epochs=50,batch_size=256,validation_split=0.2)"
   ]
  },
  {
   "cell_type": "code",
   "execution_count": 38,
   "metadata": {},
   "outputs": [
    {
     "data": {
      "image/png": "[encoded data removed]",
      "text/plain": [
       "<matplotlib.figure.Figure at 0x7fb8137659b0>"
      ]
     },
     "metadata": {},
     "output_type": "display_data"
    }
   ],
   "source": [
    "import matplotlib.pyplot as plt\n",
    "%matplotlib inline\n",
    "reconstructed_img=autoencoder.predict(x_test)\n",
    "plt.figure(figsize=(20,4))\n",
    "for i in range(10):\n",
    "    # original\n",
    "    plt.subplot(2, 10, i + 1)\n",
    "    plt.imshow(x_test[i].reshape(28, 28))\n",
    "    plt.axis('off')\n",
    "\n",
    "    # reconstruction\n",
    "    plt.subplot(2, 10, i + 1 + 10)\n",
    "    plt.imshow(reconstructed_img[i].reshape(28, 28))\n",
    "    plt.axis('off')\n",
    "\n",
    "plt.tight_layout()\n",
    "plt.show()\n"
   ]
  },
  {
   "cell_type": "code",
   "execution_count": null,
   "metadata": {},
   "outputs": [],
   "source": []
  }
 ],
 "metadata": {
  "kernelspec": {
   "display_name": "Python 3",
   "language": "python",
   "name": "python3"
  },
  "language_info": {
   "codemirror_mode": {
    "name": "ipython",
    "version": 3
   },
   "file_extension": ".py",
   "mimetype": "text/x-python",
   "name": "python",
   "nbconvert_exporter": "python",
   "pygments_lexer": "ipython3",
   "version": "3.6.4"
  }
 },
 "nbformat": 4,
 "nbformat_minor": 2
}
