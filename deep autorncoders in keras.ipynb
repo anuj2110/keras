{
 "cells": [
  {
   "cell_type": "code",
   "execution_count": 1,
   "metadata": {},
   "outputs": [
    {
     "name": "stderr",
     "output_type": "stream",
     "text": [
      "Using TensorFlow backend.\n"
     ]
    }
   ],
   "source": [
    "from keras.layers import Dense,Input\n",
    "from keras.models import Model\n",
    "from keras.datasets import fashion_mnist"
   ]
  },
  {
   "cell_type": "code",
   "execution_count": 2,
   "metadata": {},
   "outputs": [],
   "source": [
    "import numpy as np"
   ]
  },
  {
   "cell_type": "code",
   "execution_count": 3,
   "metadata": {},
   "outputs": [],
   "source": [
    "(x_train,_),(x_test,_)=fashion_mnist.load_data()"
   ]
  },
  {
   "cell_type": "code",
   "execution_count": 4,
   "metadata": {},
   "outputs": [
    {
     "data": {
      "text/plain": [
       "(60000, 28, 28)"
      ]
     },
     "execution_count": 4,
     "metadata": {},
     "output_type": "execute_result"
    }
   ],
   "source": [
    "x_train.shape"
   ]
  },
  {
   "cell_type": "code",
   "execution_count": 6,
   "metadata": {},
   "outputs": [
    {
     "data": {
      "image/png": "[encoded data removed]",
      "text/plain": [
       "<matplotlib.figure.Figure at 0x7f6e8ee3d4e0>"
      ]
     },
     "metadata": {},
     "output_type": "display_data"
    }
   ],
   "source": [
    "import matplotlib.pyplot as plt\n",
    "plt.imshow(x_train[1])\n",
    "plt.gray()\n",
    "plt.show()"
   ]
  },
  {
   "cell_type": "code",
   "execution_count": 7,
   "metadata": {},
   "outputs": [],
   "source": [
    "X_train=x_train.reshape((x_train.shape[0],np.prod(x_train.shape[1:])))"
   ]
  },
  {
   "cell_type": "code",
   "execution_count": 8,
   "metadata": {},
   "outputs": [],
   "source": [
    "X_test=x_test.reshape((x_test.shape[0],np.prod(x_test.shape[1:])))"
   ]
  },
  {
   "cell_type": "code",
   "execution_count": 9,
   "metadata": {},
   "outputs": [],
   "source": [
    "X_train=X_train.astype('float32')/255\n",
    "X_test=X_test.astype('float32')/255"
   ]
  },
  {
   "cell_type": "code",
   "execution_count": 22,
   "metadata": {},
   "outputs": [],
   "source": [
    "input_dim=784\n",
    "encode1=512\n",
    "encode2=256\n",
    "encode3=128\n",
    "coding_size=64"
   ]
  },
  {
   "cell_type": "code",
   "execution_count": 23,
   "metadata": {},
   "outputs": [],
   "source": [
    "inp=Input((input_dim,))\n",
    "encoded=Dense(encode1)(inp)\n",
    "encoded=Dense(encode2)(encoded)\n",
    "encoded=Dense(encode3)(encoded)\n",
    "\n",
    "\n",
    "encoded=Dense(coding_size)(encoded)\n",
    "\n",
    "decoded=Dense(encode3)(encoded)\n",
    "decoded=Dense(encode2)(decoded)\n",
    "decoded=Dense(encode1)(decoded)\n",
    "decoded=Dense(input_dim)(decoded)\n",
    "autoencoder=Model(inputs=inp,outputs=decoded)"
   ]
  },
  {
   "cell_type": "code",
   "execution_count": 24,
   "metadata": {},
   "outputs": [],
   "source": [
    "autoencoder.compile(loss=\"mean_squared_error\",optimizer=\"adamax\")"
   ]
  },
  {
   "cell_type": "code",
   "execution_count": 25,
   "metadata": {},
   "outputs": [
    {
     "name": "stdout",
     "output_type": "stream",
     "text": [
      "Train on 48000 samples, validate on 12000 samples\n",
      "Epoch 1/50\n",
      "48000/48000 [==============================] - 19s 391us/step - loss: 0.0733 - val_loss: 0.0350\n",
      "Epoch 2/50\n",
      "48000/48000 [==============================] - 19s 392us/step - loss: 0.0302 - val_loss: 0.0271\n",
      "Epoch 3/50\n",
      "48000/48000 [==============================] - 19s 395us/step - loss: 0.0254 - val_loss: 0.0239\n",
      "Epoch 4/50\n",
      "48000/48000 [==============================] - 18s 376us/step - loss: 0.0227 - val_loss: 0.0216\n",
      "Epoch 5/50\n",
      "48000/48000 [==============================] - 19s 386us/step - loss: 0.0207 - val_loss: 0.0199\n",
      "Epoch 6/50\n",
      "48000/48000 [==============================] - 18s 377us/step - loss: 0.0191 - val_loss: 0.0184\n",
      "Epoch 7/50\n",
      "48000/48000 [==============================] - 18s 380us/step - loss: 0.0178 - val_loss: 0.0172\n",
      "Epoch 8/50\n",
      "48000/48000 [==============================] - 19s 385us/step - loss: 0.0166 - val_loss: 0.0161\n",
      "Epoch 9/50\n",
      "48000/48000 [==============================] - 19s 405us/step - loss: 0.0157 - val_loss: 0.0153\n",
      "Epoch 10/50\n",
      "48000/48000 [==============================] - 19s 401us/step - loss: 0.0148 - val_loss: 0.0145\n",
      "Epoch 11/50\n",
      "48000/48000 [==============================] - 21s 433us/step - loss: 0.0141 - val_loss: 0.0138\n",
      "Epoch 12/50\n",
      "48000/48000 [==============================] - 19s 399us/step - loss: 0.0135 - val_loss: 0.0132\n",
      "Epoch 13/50\n",
      "48000/48000 [==============================] - 19s 403us/step - loss: 0.0130 - val_loss: 0.0127\n",
      "Epoch 14/50\n",
      "48000/48000 [==============================] - 19s 405us/step - loss: 0.0125 - val_loss: 0.0123\n",
      "Epoch 15/50\n",
      "48000/48000 [==============================] - 20s 415us/step - loss: 0.0121 - val_loss: 0.0119\n",
      "Epoch 16/50\n",
      "48000/48000 [==============================] - 21s 435us/step - loss: 0.0118 - val_loss: 0.0116\n",
      "Epoch 17/50\n",
      "48000/48000 [==============================] - 21s 430us/step - loss: 0.0115 - val_loss: 0.0113\n",
      "Epoch 18/50\n",
      "48000/48000 [==============================] - 20s 416us/step - loss: 0.0112 - val_loss: 0.0112\n",
      "Epoch 19/50\n",
      "48000/48000 [==============================] - 21s 427us/step - loss: 0.0111 - val_loss: 0.0110\n",
      "Epoch 20/50\n",
      "48000/48000 [==============================] - 20s 418us/step - loss: 0.0109 - val_loss: 0.0108\n",
      "Epoch 21/50\n",
      "48000/48000 [==============================] - 21s 444us/step - loss: 0.0108 - val_loss: 0.0108\n",
      "Epoch 22/50\n",
      "48000/48000 [==============================] - 22s 449us/step - loss: 0.0108 - val_loss: 0.0107\n",
      "Epoch 23/50\n",
      "48000/48000 [==============================] - 20s 424us/step - loss: 0.0107 - val_loss: 0.0107\n",
      "Epoch 24/50\n",
      "48000/48000 [==============================] - 20s 413us/step - loss: 0.0107 - val_loss: 0.0106\n",
      "Epoch 25/50\n",
      "48000/48000 [==============================] - 19s 403us/step - loss: 0.0107 - val_loss: 0.0106\n",
      "Epoch 26/50\n",
      "48000/48000 [==============================] - 19s 396us/step - loss: 0.0106 - val_loss: 0.0107\n",
      "Epoch 27/50\n",
      "48000/48000 [==============================] - 20s 411us/step - loss: 0.0107 - val_loss: 0.0106\n",
      "Epoch 28/50\n",
      "48000/48000 [==============================] - 20s 420us/step - loss: 0.0107 - val_loss: 0.0106\n",
      "Epoch 29/50\n",
      "48000/48000 [==============================] - 21s 446us/step - loss: 0.0106 - val_loss: 0.0106\n",
      "Epoch 30/50\n",
      "48000/48000 [==============================] - 20s 413us/step - loss: 0.0106 - val_loss: 0.0106\n",
      "Epoch 31/50\n",
      "48000/48000 [==============================] - 21s 434us/step - loss: 0.0106 - val_loss: 0.0105\n",
      "Epoch 32/50\n",
      "48000/48000 [==============================] - 24s 497us/step - loss: 0.0106 - val_loss: 0.0112\n",
      "Epoch 33/50\n",
      "48000/48000 [==============================] - 27s 561us/step - loss: 0.0106 - val_loss: 0.0106\n",
      "Epoch 34/50\n",
      "48000/48000 [==============================] - 21s 448us/step - loss: 0.0106 - val_loss: 0.0105\n",
      "Epoch 35/50\n",
      "48000/48000 [==============================] - 19s 406us/step - loss: 0.0106 - val_loss: 0.0105\n",
      "Epoch 36/50\n",
      "48000/48000 [==============================] - 19s 395us/step - loss: 0.0106 - val_loss: 0.0105\n",
      "Epoch 37/50\n",
      "48000/48000 [==============================] - 19s 394us/step - loss: 0.0105 - val_loss: 0.0105\n",
      "Epoch 38/50\n",
      "48000/48000 [==============================] - 19s 391us/step - loss: 0.0106 - val_loss: 0.0106\n",
      "Epoch 39/50\n",
      "48000/48000 [==============================] - 19s 392us/step - loss: 0.0106 - val_loss: 0.0105\n",
      "Epoch 40/50\n",
      "48000/48000 [==============================] - 19s 389us/step - loss: 0.0106 - val_loss: 0.0105\n",
      "Epoch 41/50\n",
      "48000/48000 [==============================] - 19s 395us/step - loss: 0.0105 - val_loss: 0.0106\n",
      "Epoch 42/50\n",
      "48000/48000 [==============================] - 20s 407us/step - loss: 0.0106 - val_loss: 0.0105\n",
      "Epoch 43/50\n",
      "48000/48000 [==============================] - 21s 429us/step - loss: 0.0106 - val_loss: 0.0105\n",
      "Epoch 44/50\n",
      "48000/48000 [==============================] - 21s 445us/step - loss: 0.0105 - val_loss: 0.0105\n",
      "Epoch 45/50\n",
      "48000/48000 [==============================] - 20s 414us/step - loss: 0.0105 - val_loss: 0.0105\n",
      "Epoch 46/50\n",
      "48000/48000 [==============================] - 19s 406us/step - loss: 0.0106 - val_loss: 0.0105\n",
      "Epoch 47/50\n",
      "48000/48000 [==============================] - 19s 400us/step - loss: 0.0105 - val_loss: 0.0105\n",
      "Epoch 48/50\n",
      "48000/48000 [==============================] - 19s 406us/step - loss: 0.0106 - val_loss: 0.0105\n",
      "Epoch 49/50\n",
      "48000/48000 [==============================] - 20s 416us/step - loss: 0.0105 - val_loss: 0.0106\n",
      "Epoch 50/50\n",
      "48000/48000 [==============================] - 23s 469us/step - loss: 0.0105 - val_loss: 0.0105\n"
     ]
    },
    {
     "data": {
      "text/plain": [
       "<keras.callbacks.History at 0x7f6e7404a1d0>"
      ]
     },
     "execution_count": 25,
     "metadata": {},
     "output_type": "execute_result"
    }
   ],
   "source": [
    "autoencoder.fit(X_train,X_train,shuffle=True,epochs=50,batch_size=256,validation_split=0.2)"
   ]
  },
  {
   "cell_type": "code",
   "execution_count": 26,
   "metadata": {},
   "outputs": [
    {
     "data": {
      "image/png": "[encoded data removed]",
      "text/plain": [
       "<matplotlib.figure.Figure at 0x7f6e58899320>"
      ]
     },
     "metadata": {},
     "output_type": "display_data"
    }
   ],
   "source": [
    "reconstructed_img=autoencoder.predict(X_test)\n",
    "plt.figure(figsize=(20,4))\n",
    "for i in range(10):\n",
    "    # original\n",
    "    plt.subplot(2, 10, i + 1)\n",
    "    plt.imshow(X_test[i].reshape(28, 28))\n",
    "    plt.axis('off')\n",
    "\n",
    "    # reconstruction\n",
    "    plt.subplot(2, 10, i + 1 + 10)\n",
    "    plt.imshow(reconstructed_img[i].reshape(28, 28))\n",
    "    plt.axis('off')\n",
    "\n",
    "plt.tight_layout()\n",
    "plt.show()\n"
   ]
  },
  {
   "cell_type": "code",
   "execution_count": null,
   "metadata": {},
   "outputs": [],
   "source": []
  },
  {
   "cell_type": "code",
   "execution_count": null,
   "metadata": {},
   "outputs": [],
   "source": []
  },
  {
   "cell_type": "code",
   "execution_count": null,
   "metadata": {},
   "outputs": [],
   "source": []
  }
 ],
 "metadata": {
  "kernelspec": {
   "display_name": "Python 3",
   "language": "python",
   "name": "python3"
  },
  "language_info": {
   "codemirror_mode": {
    "name": "ipython",
    "version": 3
   },
   "file_extension": ".py",
   "mimetype": "text/x-python",
   "name": "python",
   "nbconvert_exporter": "python",
   "pygments_lexer": "ipython3",
   "version": "3.6.4"
  }
 },
 "nbformat": 4,
 "nbformat_minor": 2
}
