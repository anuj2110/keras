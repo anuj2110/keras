{
 "cells": [
  {
   "cell_type": "code",
   "execution_count": 1,
   "metadata": {},
   "outputs": [
    {
     "name": "stderr",
     "output_type": "stream",
     "text": [
      "Using TensorFlow backend.\n"
     ]
    }
   ],
   "source": [
    "import numpy as np\n",
    "from keras import models as m\n",
    "from keras import layers as l #installing all dependencies"
   ]
  },
  {
   "cell_type": "code",
   "execution_count": 31,
   "metadata": {},
   "outputs": [],
   "source": [
    "from keras.datasets import mnist\n",
    "(x_train,_),(x_test,_)=mnist.load_data()\n",
    "x_train=x_train.astype('float32')/255\n",
    "x_test=x_test.astype('float32')/255  #importing and normalizing the dataset"
   ]
  },
  {
   "cell_type": "code",
   "execution_count": 32,
   "metadata": {},
   "outputs": [],
   "source": [
    "X_train=x_train.reshape(x_train.shape[0],np.prod(x_train.shape[1:]))#reshaping training data"
   ]
  },
  {
   "cell_type": "code",
   "execution_count": 33,
   "metadata": {},
   "outputs": [
    {
     "data": {
      "text/plain": [
       "(60000, 784)"
      ]
     },
     "execution_count": 33,
     "metadata": {},
     "output_type": "execute_result"
    }
   ],
   "source": [
    "X_train.shape"
   ]
  },
  {
   "cell_type": "code",
   "execution_count": 34,
   "metadata": {},
   "outputs": [],
   "source": [
    "X_test=x_test.reshape(x_test.shape[0],np.prod(x_test.shape[1:]))#reshaping testing data"
   ]
  },
  {
   "cell_type": "code",
   "execution_count": 35,
   "metadata": {},
   "outputs": [
    {
     "data": {
      "text/plain": [
       "(10000, 784)"
      ]
     },
     "execution_count": 35,
     "metadata": {},
     "output_type": "execute_result"
    }
   ],
   "source": [
    "X_test.shape"
   ]
  },
  {
   "cell_type": "code",
   "execution_count": 36,
   "metadata": {},
   "outputs": [],
   "source": [
    "input_dim=784\n",
    "encodings=64\n"
   ]
  },
  {
   "cell_type": "code",
   "execution_count": 37,
   "metadata": {},
   "outputs": [],
   "source": [
    "inp=l.Input(shape=(input_dim,))\n",
    "encoded=l.Dense(encodings,activation=\"relu\")(inp)\n",
    "decoded=l.Dense(input_dim,activation=\"relu\")(encoded)\n",
    "autoencoder=m.Model(inputs=inp,outputs=decoded)"
   ]
  },
  {
   "cell_type": "code",
   "execution_count": 38,
   "metadata": {},
   "outputs": [],
   "source": [
    "autoencoder.compile(optimizer=\"adam\",loss=\"mean_squared_error\")"
   ]
  },
  {
   "cell_type": "code",
   "execution_count": 39,
   "metadata": {},
   "outputs": [
    {
     "name": "stdout",
     "output_type": "stream",
     "text": [
      "Train on 48000 samples, validate on 12000 samples\n",
      "Epoch 1/50\n",
      "48000/48000 [==============================] - 6s 135us/step - loss: 0.0351 - val_loss: 0.0160\n",
      "Epoch 2/50\n",
      "48000/48000 [==============================] - 6s 133us/step - loss: 0.0131 - val_loss: 0.0112\n",
      "Epoch 3/50\n",
      "48000/48000 [==============================] - 7s 138us/step - loss: 0.0102 - val_loss: 0.0095\n",
      "Epoch 4/50\n",
      "48000/48000 [==============================] - 6s 133us/step - loss: 0.0091 - val_loss: 0.0088\n",
      "Epoch 5/50\n",
      "48000/48000 [==============================] - 7s 143us/step - loss: 0.0085 - val_loss: 0.0083\n",
      "Epoch 6/50\n",
      "48000/48000 [==============================] - 6s 135us/step - loss: 0.0082 - val_loss: 0.0081\n",
      "Epoch 7/50\n",
      "48000/48000 [==============================] - 6s 133us/step - loss: 0.0079 - val_loss: 0.0079\n",
      "Epoch 8/50\n",
      "48000/48000 [==============================] - 6s 129us/step - loss: 0.0078 - val_loss: 0.0078\n",
      "Epoch 9/50\n",
      "48000/48000 [==============================] - 4s 90us/step - loss: 0.0077 - val_loss: 0.0076\n",
      "Epoch 10/50\n",
      "48000/48000 [==============================] - 4s 87us/step - loss: 0.0076 - val_loss: 0.0076\n",
      "Epoch 11/50\n",
      "48000/48000 [==============================] - 4s 84us/step - loss: 0.0075 - val_loss: 0.0075\n",
      "Epoch 12/50\n",
      "48000/48000 [==============================] - 4s 86us/step - loss: 0.0074 - val_loss: 0.0074\n",
      "Epoch 13/50\n",
      "48000/48000 [==============================] - 4s 83us/step - loss: 0.0073 - val_loss: 0.0073\n",
      "Epoch 14/50\n",
      "48000/48000 [==============================] - 4s 78us/step - loss: 0.0073 - val_loss: 0.0073\n",
      "Epoch 15/50\n",
      "48000/48000 [==============================] - 4s 81us/step - loss: 0.0073 - val_loss: 0.0073\n",
      "Epoch 16/50\n",
      "48000/48000 [==============================] - 4s 86us/step - loss: 0.0072 - val_loss: 0.0072\n",
      "Epoch 17/50\n",
      "48000/48000 [==============================] - 4s 81us/step - loss: 0.0072 - val_loss: 0.0072\n",
      "Epoch 18/50\n",
      "48000/48000 [==============================] - 4s 76us/step - loss: 0.0072 - val_loss: 0.0072\n",
      "Epoch 19/50\n",
      "48000/48000 [==============================] - 4s 89us/step - loss: 0.0072 - val_loss: 0.0072\n",
      "Epoch 20/50\n",
      "48000/48000 [==============================] - 3s 65us/step - loss: 0.0072 - val_loss: 0.0072\n",
      "Epoch 21/50\n",
      "48000/48000 [==============================] - 3s 65us/step - loss: 0.0071 - val_loss: 0.0072\n",
      "Epoch 22/50\n",
      "48000/48000 [==============================] - 4s 81us/step - loss: 0.0071 - val_loss: 0.0071\n",
      "Epoch 23/50\n",
      "48000/48000 [==============================] - 3s 66us/step - loss: 0.0071 - val_loss: 0.0071\n",
      "Epoch 24/50\n",
      "48000/48000 [==============================] - 3s 66us/step - loss: 0.0071 - val_loss: 0.0071\n",
      "Epoch 25/50\n",
      "48000/48000 [==============================] - 3s 66us/step - loss: 0.0071 - val_loss: 0.0071\n",
      "Epoch 26/50\n",
      "48000/48000 [==============================] - 3s 72us/step - loss: 0.0071 - val_loss: 0.0071\n",
      "Epoch 27/50\n",
      "48000/48000 [==============================] - 4s 77us/step - loss: 0.0071 - val_loss: 0.0071\n",
      "Epoch 28/50\n",
      "48000/48000 [==============================] - 3s 69us/step - loss: 0.0071 - val_loss: 0.0071\n",
      "Epoch 29/50\n",
      "48000/48000 [==============================] - 3s 67us/step - loss: 0.0071 - val_loss: 0.0071\n",
      "Epoch 30/50\n",
      "48000/48000 [==============================] - 3s 61us/step - loss: 0.0071 - val_loss: 0.0071\n",
      "Epoch 31/50\n",
      "48000/48000 [==============================] - 3s 64us/step - loss: 0.0071 - val_loss: 0.0071\n",
      "Epoch 32/50\n",
      "48000/48000 [==============================] - 4s 75us/step - loss: 0.0071 - val_loss: 0.0071\n",
      "Epoch 33/50\n",
      "48000/48000 [==============================] - 4s 92us/step - loss: 0.0070 - val_loss: 0.0071\n",
      "Epoch 34/50\n",
      "48000/48000 [==============================] - 4s 88us/step - loss: 0.0070 - val_loss: 0.0071\n",
      "Epoch 35/50\n",
      "48000/48000 [==============================] - 5s 101us/step - loss: 0.0070 - val_loss: 0.0070\n",
      "Epoch 36/50\n",
      "48000/48000 [==============================] - 4s 78us/step - loss: 0.0070 - val_loss: 0.0071\n",
      "Epoch 37/50\n",
      "48000/48000 [==============================] - 4s 76us/step - loss: 0.0070 - val_loss: 0.0071\n",
      "Epoch 38/50\n",
      "48000/48000 [==============================] - 4s 92us/step - loss: 0.0070 - val_loss: 0.0070\n",
      "Epoch 39/50\n",
      "48000/48000 [==============================] - 4s 91us/step - loss: 0.0070 - val_loss: 0.0071\n",
      "Epoch 40/50\n",
      "48000/48000 [==============================] - 4s 83us/step - loss: 0.0070 - val_loss: 0.0071\n",
      "Epoch 41/50\n",
      "48000/48000 [==============================] - 4s 74us/step - loss: 0.0070 - val_loss: 0.0071\n",
      "Epoch 42/50\n",
      "48000/48000 [==============================] - 4s 75us/step - loss: 0.0070 - val_loss: 0.0070\n",
      "Epoch 43/50\n",
      "48000/48000 [==============================] - 4s 77us/step - loss: 0.0070 - val_loss: 0.0070\n",
      "Epoch 44/50\n",
      "48000/48000 [==============================] - 4s 82us/step - loss: 0.0070 - val_loss: 0.0071\n",
      "Epoch 45/50\n",
      "48000/48000 [==============================] - 4s 83us/step - loss: 0.0070 - val_loss: 0.0070\n",
      "Epoch 46/50\n",
      "48000/48000 [==============================] - 4s 89us/step - loss: 0.0070 - val_loss: 0.0070\n",
      "Epoch 47/50\n",
      "48000/48000 [==============================] - 4s 75us/step - loss: 0.0070 - val_loss: 0.0070\n",
      "Epoch 48/50\n",
      "48000/48000 [==============================] - 3s 72us/step - loss: 0.0070 - val_loss: 0.0070\n",
      "Epoch 49/50\n",
      "48000/48000 [==============================] - 4s 74us/step - loss: 0.0070 - val_loss: 0.0070\n",
      "Epoch 50/50\n",
      "48000/48000 [==============================] - 4s 76us/step - loss: 0.0070 - val_loss: 0.0070\n"
     ]
    },
    {
     "data": {
      "text/plain": [
       "<keras.callbacks.History at 0x7fe9872a03c8>"
      ]
     },
     "execution_count": 39,
     "metadata": {},
     "output_type": "execute_result"
    }
   ],
   "source": [
    "autoencoder.fit(X_train, X_train, epochs=50, batch_size=256, shuffle=True, validation_split=0.2)"
   ]
  },
  {
   "cell_type": "code",
   "execution_count": 42,
   "metadata": {},
   "outputs": [
    {
     "data": {
      "image/png": "[encoded data removed]",
      "text/plain": [
       "<matplotlib.figure.Figure at 0x7fe984768128>"
      ]
     },
     "metadata": {},
     "output_type": "display_data"
    }
   ],
   "source": [
    "decoded_img=autoencoder.predict(X_test)\n",
    "import matplotlib.pyplot as plt\n",
    "%matplotlib inline\n",
    "plt.figure(figsize=(20, 4))\n",
    "for i in range(10):\n",
    "    # original\n",
    "    plt.subplot(2, 10, i + 1)\n",
    "    plt.imshow(X_test[i].reshape(28, 28))\n",
    "\n",
    "    plt.axis('off')\n",
    "\n",
    "    # reconstruction\n",
    "    plt.subplot(2, 10, i + 1 + 10)\n",
    "    plt.imshow(decoded_img[i].reshape(28, 28))\n",
    "\n",
    "    plt.axis('off')\n",
    "\n",
    "plt.tight_layout()\n",
    "plt.show()\n"
   ]
  },
  {
   "cell_type": "code",
   "execution_count": null,
   "metadata": {},
   "outputs": [],
   "source": []
  }
 ],
 "metadata": {
  "kernelspec": {
   "display_name": "Python 3",
   "language": "python",
   "name": "python3"
  },
  "language_info": {
   "codemirror_mode": {
    "name": "ipython",
    "version": 3
   },
   "file_extension": ".py",
   "mimetype": "text/x-python",
   "name": "python",
   "nbconvert_exporter": "python",
   "pygments_lexer": "ipython3",
   "version": "3.6.4"
  }
 },
 "nbformat": 4,
 "nbformat_minor": 2
}
